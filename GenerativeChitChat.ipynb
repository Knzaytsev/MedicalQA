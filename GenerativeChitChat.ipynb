{
 "cells": [
  {
   "cell_type": "markdown",
   "metadata": {},
   "source": [
    "### Постановка задачи и датасет"
   ]
  },
  {
   "cell_type": "markdown",
   "metadata": {},
   "source": [
    "В качестве датасета используются вопросы и ответы с медицинских форумов. Предполагается, что чат-бот будет давать какие-то советы, которые соотносятся с жалобами людей на здоровье."
   ]
  },
  {
   "cell_type": "markdown",
   "metadata": {},
   "source": [
    "### Импорт библиотек и данных"
   ]
  },
  {
   "cell_type": "code",
   "execution_count": 1,
   "metadata": {},
   "outputs": [],
   "source": [
    "import math\n",
    "import numpy as np\n",
    "import pandas as pd\n",
    "\n",
    "import random\n",
    "import json\n",
    "import torch\n",
    "from torch import nn\n",
    "from torch.utils.data import Dataset, DataLoader\n",
    "import torch.nn.functional as F\n",
    "\n",
    "import time\n",
    "\n",
    "from tqdm import tqdm\n",
    "\n",
    "from matplotlib import pyplot as plt\n",
    "\n",
    "import youtokentome as yttm\n",
    "\n",
    "import os"
   ]
  },
  {
   "cell_type": "code",
   "execution_count": 2,
   "metadata": {},
   "outputs": [],
   "source": [
    "qa_data = pd.read_csv('medical_qa_ru_data.csv',).rename(columns={'desc': 'question', 'ans': 'answer'})"
   ]
  },
  {
   "cell_type": "code",
   "execution_count": 3,
   "metadata": {},
   "outputs": [
    {
     "data": {
      "text/html": [
       "<div>\n",
       "<style scoped>\n",
       "    .dataframe tbody tr th:only-of-type {\n",
       "        vertical-align: middle;\n",
       "    }\n",
       "\n",
       "    .dataframe tbody tr th {\n",
       "        vertical-align: top;\n",
       "    }\n",
       "\n",
       "    .dataframe thead th {\n",
       "        text-align: right;\n",
       "    }\n",
       "</style>\n",
       "<table border=\"1\" class=\"dataframe\">\n",
       "  <thead>\n",
       "    <tr style=\"text-align: right;\">\n",
       "      <th></th>\n",
       "      <th>date</th>\n",
       "      <th>categ</th>\n",
       "      <th>theme</th>\n",
       "      <th>question</th>\n",
       "      <th>answer</th>\n",
       "      <th>spec10</th>\n",
       "    </tr>\n",
       "  </thead>\n",
       "  <tbody>\n",
       "    <tr>\n",
       "      <th>0</th>\n",
       "      <td>8 Октября 2017, 11:55</td>\n",
       "      <td>Оториноларингология</td>\n",
       "      <td>Применение Ларипронта.</td>\n",
       "      <td>Ларипронт 20 талеток,через каждые 2-3 часа.Оче...</td>\n",
       "      <td>Что вы им лечите? Длительность приема Ларипрон...</td>\n",
       "      <td>Отоларинголог</td>\n",
       "    </tr>\n",
       "    <tr>\n",
       "      <th>1</th>\n",
       "      <td>20 Февраля 2019, 13:24</td>\n",
       "      <td>Акушерство</td>\n",
       "      <td>Беременность</td>\n",
       "      <td>Здравствуйте, я на 7-8 неделе беременности. С ...</td>\n",
       "      <td>Здравствуйте, это может быть признаком раннего...</td>\n",
       "      <td>NaN</td>\n",
       "    </tr>\n",
       "    <tr>\n",
       "      <th>2</th>\n",
       "      <td>17 Марта 2015, 18:31</td>\n",
       "      <td>Другое</td>\n",
       "      <td>гинекология</td>\n",
       "      <td>Здравствуйте месячные должны придти 23 марта в...</td>\n",
       "      <td>Выполните исследование хгч</td>\n",
       "      <td>NaN</td>\n",
       "    </tr>\n",
       "    <tr>\n",
       "      <th>3</th>\n",
       "      <td>13 Января 2019, 19:38</td>\n",
       "      <td>Терапия</td>\n",
       "      <td>Занятия спорта после сдачи крови</td>\n",
       "      <td>Завтра иду с утра сдавать кровь ТТГ, Т4СВ, Кал...</td>\n",
       "      <td>Можно.;\\nЗдравствуйте , да, попейте сладкого ч...</td>\n",
       "      <td>Терапевт</td>\n",
       "    </tr>\n",
       "    <tr>\n",
       "      <th>4</th>\n",
       "      <td>28 Ноября 2017, 21:58</td>\n",
       "      <td>Другое</td>\n",
       "      <td>Таблетки</td>\n",
       "      <td>Мне прописали пить Аллохол. Врач написала пить...</td>\n",
       "      <td>Препарат принимается после еды. Уточните это  ...</td>\n",
       "      <td>NaN</td>\n",
       "    </tr>\n",
       "  </tbody>\n",
       "</table>\n",
       "</div>"
      ],
      "text/plain": [
       "                     date                categ  \\\n",
       "0   8 Октября 2017, 11:55  Оториноларингология   \n",
       "1  20 Февраля 2019, 13:24           Акушерство   \n",
       "2    17 Марта 2015, 18:31               Другое   \n",
       "3   13 Января 2019, 19:38              Терапия   \n",
       "4   28 Ноября 2017, 21:58               Другое   \n",
       "\n",
       "                              theme  \\\n",
       "0            Применение Ларипронта.   \n",
       "1                      Беременность   \n",
       "2                       гинекология   \n",
       "3  Занятия спорта после сдачи крови   \n",
       "4                          Таблетки   \n",
       "\n",
       "                                            question  \\\n",
       "0  Ларипронт 20 талеток,через каждые 2-3 часа.Оче...   \n",
       "1  Здравствуйте, я на 7-8 неделе беременности. С ...   \n",
       "2  Здравствуйте месячные должны придти 23 марта в...   \n",
       "3  Завтра иду с утра сдавать кровь ТТГ, Т4СВ, Кал...   \n",
       "4  Мне прописали пить Аллохол. Врач написала пить...   \n",
       "\n",
       "                                              answer         spec10  \n",
       "0  Что вы им лечите? Длительность приема Ларипрон...  Отоларинголог  \n",
       "1  Здравствуйте, это может быть признаком раннего...            NaN  \n",
       "2                         Выполните исследование хгч            NaN  \n",
       "3  Можно.;\\nЗдравствуйте , да, попейте сладкого ч...       Терапевт  \n",
       "4  Препарат принимается после еды. Уточните это  ...            NaN  "
      ]
     },
     "execution_count": 3,
     "metadata": {},
     "output_type": "execute_result"
    }
   ],
   "source": [
    "qa_data.head()"
   ]
  },
  {
   "cell_type": "markdown",
   "metadata": {},
   "source": [
    "### Фильтрация данных"
   ]
  },
  {
   "cell_type": "code",
   "execution_count": 4,
   "metadata": {},
   "outputs": [],
   "source": [
    "qa_data = qa_data.drop_duplicates(subset=['question', 'answer'])"
   ]
  },
  {
   "cell_type": "code",
   "execution_count": 7,
   "metadata": {},
   "outputs": [
    {
     "data": {
      "text/plain": [
       "<AxesSubplot: ylabel='Frequency'>"
      ]
     },
     "execution_count": 7,
     "metadata": {},
     "output_type": "execute_result"
    },
    {
     "data": {
      "image/png": "[encoded data removed]",
      "text/plain": [
       "<Figure size 640x480 with 1 Axes>"
      ]
     },
     "metadata": {},
     "output_type": "display_data"
    }
   ],
   "source": [
    "qa_data['question'].str.len().plot.hist(bins=150)"
   ]
  },
  {
   "cell_type": "code",
   "execution_count": 8,
   "metadata": {},
   "outputs": [
    {
     "data": {
      "text/plain": [
       "<AxesSubplot: ylabel='Frequency'>"
      ]
     },
     "execution_count": 8,
     "metadata": {},
     "output_type": "execute_result"
    },
    {
     "data": {
      "image/png": "[encoded data removed]",
      "text/plain": [
       "<Figure size 640x480 with 1 Axes>"
      ]
     },
     "metadata": {},
     "output_type": "display_data"
    }
   ],
   "source": [
    "qa_data['answer'].str.len().plot.hist(bins=150)"
   ]
  },
  {
   "cell_type": "code",
   "execution_count": 5,
   "metadata": {},
   "outputs": [],
   "source": [
    "qa_data = qa_data[(qa_data['question'].str.len() >= 150) & (qa_data['answer'].str.len() >= 150)]"
   ]
  },
  {
   "cell_type": "markdown",
   "metadata": {},
   "source": [
    "### Обучение токенайзера"
   ]
  },
  {
   "cell_type": "code",
   "execution_count": 6,
   "metadata": {},
   "outputs": [],
   "source": [
    "model_path = 'pretrained_bpe_lm_med.model'"
   ]
  },
  {
   "cell_type": "code",
   "execution_count": 7,
   "metadata": {},
   "outputs": [],
   "source": [
    "if not os.path.isfile(model_path):\n",
    "    with open('for_bpe.txt', 'w', encoding='utf-8') as f:\n",
    "        for que in qa_data['question']:\n",
    "            f.write(que + '\\n')\n",
    "\n",
    "    # параметры\n",
    "    vocab_size = 30_000\n",
    "    yttm.BPE.train(data='for_bpe.txt', vocab_size=vocab_size, model=model_path, )\n",
    "\n",
    "tokenizer = yttm.BPE(model=model_path)"
   ]
  },
  {
   "cell_type": "markdown",
   "metadata": {},
   "source": [
    "### Написание классов для обработки датасета"
   ]
  },
  {
   "cell_type": "code",
   "execution_count": 8,
   "metadata": {},
   "outputs": [],
   "source": [
    "class Seq2SeqDataset(torch.utils.data.Dataset):\n",
    "    \n",
    "    def __init__(self, data):\n",
    "        super().__init__()\n",
    "        assert type(data) == pd.DataFrame, f'Data is not {pd.DataFrame.__name__}'\n",
    "        assert all(column in data.columns for column in ['question', 'answer']), \\\n",
    "                'Data does not contain question or/and answer columns'\n",
    "        self.data = list(zip(data['question'], data['answer']))\n",
    "        \n",
    "    def __len__(self):\n",
    "        return len(self.data)\n",
    "    \n",
    "    def __getitem__(self, index):\n",
    "        question, answer = self.data[index]\n",
    "        \n",
    "        return {'question': question, 'answer': answer}"
   ]
  },
  {
   "cell_type": "code",
   "execution_count": 9,
   "metadata": {},
   "outputs": [],
   "source": [
    "class Collator:\n",
    "    \n",
    "    def __init__(self, \n",
    "                 base_tokenizer, \n",
    "                 pad_token,\n",
    "                 pad_index,\n",
    "                 max_len=64, \n",
    "                 base_tokenizer_args=None,):\n",
    "        assert  hasattr(base_tokenizer, 'encode'), 'The tokenizer does not have an encode method'\n",
    "        \n",
    "        self._base_tokenizer = base_tokenizer\n",
    "        self._base_tokenizer_args = base_tokenizer_args\n",
    "        \n",
    "        self.pad_token = pad_token\n",
    "        self.pad_index = pad_index\n",
    "        \n",
    "        self.max_len = max_len\n",
    "        \n",
    "    def collate(self, batch):\n",
    "        questions = [sample['question'] for sample in batch]\n",
    "        answers = [sample['answer'] for sample in batch]\n",
    "        \n",
    "        questions = self._base_tokenizer.encode(questions, **self._base_tokenizer_args['question'])\n",
    "        answers = self._base_tokenizer.encode(answers, **self._base_tokenizer_args['answer'])\n",
    "        \n",
    "        questions = [question[:self.max_len] + [self.pad_index] * (self.max_len - len(question)) for question in questions]\n",
    "        answers = [answer[:self.max_len] + [self.pad_index] * (self.max_len - len(answer)) for answer in answers]\n",
    "            \n",
    "        questions = torch.tensor(questions).long()\n",
    "        answers = torch.tensor(answers).long()\n",
    "        \n",
    "        return questions, answers"
   ]
  },
  {
   "cell_type": "code",
   "execution_count": 12,
   "metadata": {},
   "outputs": [
    {
     "data": {
      "image/png": "[encoded data removed]",
      "text/plain": [
       "<Figure size 640x480 with 1 Axes>"
      ]
     },
     "metadata": {},
     "output_type": "display_data"
    }
   ],
   "source": [
    "plt.hist([len(tokens) for tokens in tokenizer.encode(qa_data['question'].tolist())], bins=150)\n",
    "plt.show()"
   ]
  },
  {
   "cell_type": "code",
   "execution_count": 15,
   "metadata": {},
   "outputs": [
    {
     "data": {
      "image/png": "[encoded data removed]",
      "text/plain": [
       "<Figure size 640x480 with 1 Axes>"
      ]
     },
     "metadata": {},
     "output_type": "display_data"
    }
   ],
   "source": [
    "plt.hist([len(tokens) for tokens in tokenizer.encode(qa_data['answer'].tolist())], bins=150)\n",
    "plt.show()"
   ]
  },
  {
   "cell_type": "markdown",
   "metadata": {},
   "source": [
    "### Формирование данных для обучения"
   ]
  },
  {
   "cell_type": "code",
   "execution_count": 10,
   "metadata": {},
   "outputs": [
    {
     "data": {
      "text/plain": [
       "(35046, 3894)"
      ]
     },
     "execution_count": 10,
     "metadata": {},
     "output_type": "execute_result"
    }
   ],
   "source": [
    "pairs = qa_data.sample(qa_data.shape[0] // 144 * 60).reset_index(drop=True)\n",
    "\n",
    "train_dataset = Seq2SeqDataset(pairs[:int(len(pairs)*.9)])\n",
    "validation_dataset = Seq2SeqDataset(pairs[int(len(pairs)*.9):])\n",
    "\n",
    "len(train_dataset), len(validation_dataset)"
   ]
  },
  {
   "cell_type": "code",
   "execution_count": 11,
   "metadata": {},
   "outputs": [],
   "source": [
    "batch_size = 16\n",
    "\n",
    "max_len = 256\n",
    "\n",
    "pad_token = '<PAD>'\n",
    "pad_index = tokenizer.subword_to_id(pad_token)"
   ]
  },
  {
   "cell_type": "code",
   "execution_count": 12,
   "metadata": {},
   "outputs": [],
   "source": [
    "collator = Collator(tokenizer, pad_token, pad_index, max_len, {'question': {'bos': True, 'eos': True}, \n",
    "                                                               'answer': {'bos': True, 'eos': True}})\n",
    "\n",
    "train_loader = torch.utils.data.DataLoader(train_dataset, batch_size=batch_size, collate_fn = collator.collate)\n",
    "validation_loader = torch.utils.data.DataLoader(validation_dataset, batch_size=batch_size, collate_fn = collator.collate)"
   ]
  },
  {
   "cell_type": "markdown",
   "metadata": {},
   "source": [
    "### Написание классов для модели"
   ]
  },
  {
   "cell_type": "code",
   "execution_count": 13,
   "metadata": {},
   "outputs": [],
   "source": [
    "class Encoder(torch.nn.Module):\n",
    "    \n",
    "    def __init__(self, vocab_size, embedding_dim, \n",
    "                 hidden_size, num_layers, dropout, padding_idx):\n",
    "        super(Encoder, self).__init__()\n",
    "        self.hidden_size = hidden_size\n",
    "        \n",
    "        self.embeddings = torch.nn.Embedding(num_embeddings=vocab_size,\n",
    "                                             embedding_dim=embedding_dim,\n",
    "                                             padding_idx=padding_idx)\n",
    "        self.lstm = torch.nn.LSTM(input_size=embedding_dim, \n",
    "                                  hidden_size=hidden_size, \n",
    "                                  num_layers=num_layers,\n",
    "                                  dropout = dropout,\n",
    "                                  batch_first=True, )\n",
    "        self.dropout = torch.nn.Dropout(dropout)\n",
    "        self.linear = torch.nn.Linear(in_features=hidden_size, \n",
    "                                      out_features=hidden_size)\n",
    "        \n",
    "    def forward(self, x):\n",
    "        x = self.embeddings(x)\n",
    "        x = self.dropout(x)\n",
    "        x, mem = self.lstm(x)\n",
    "        x = self.linear(x)\n",
    "        return x, mem"
   ]
  },
  {
   "cell_type": "code",
   "execution_count": 14,
   "metadata": {},
   "outputs": [],
   "source": [
    "class Attention(torch.nn.Module):\n",
    "    \n",
    "    def __init__(self, hidden_size, max_len):\n",
    "        super(Attention, self).__init__()\n",
    "        \n",
    "        self.attention_layer = torch.nn.Linear(in_features=hidden_size*2, out_features=max_len)\n",
    "        self.softmax = torch.nn.Softmax(dim=-1)\n",
    "    \n",
    "    def forward(self, x, hidden):\n",
    "        attention_weights = torch.cat((x, hidden[0].transpose(1, 0)), dim=-1)\n",
    "        attention_weights = self.attention_layer(attention_weights)\n",
    "        return self.softmax(attention_weights)"
   ]
  },
  {
   "cell_type": "code",
   "execution_count": 15,
   "metadata": {},
   "outputs": [],
   "source": [
    "class Decoder(torch.nn.Module):\n",
    "    \n",
    "    def __init__(self, vocab_size, embedding_dim, \n",
    "                 hidden_size, num_layers, dropout, \n",
    "                 padding_idx, attention_layer):\n",
    "        super(Decoder, self).__init__()\n",
    "        \n",
    "        self.vocab_size = vocab_size\n",
    "        self.hidden_size = hidden_size\n",
    "        \n",
    "        self.embeddings = torch.nn.Embedding(num_embeddings=vocab_size,\n",
    "                                             embedding_dim=embedding_dim,\n",
    "                                             padding_idx=padding_idx)\n",
    "        self.attention = attention_layer\n",
    "        self.combine_layer = torch.nn.Linear(in_features=self.hidden_size*2, out_features=self.hidden_size)\n",
    "        self.lstm = torch.nn.LSTM(input_size=embedding_dim, \n",
    "                                  hidden_size=hidden_size, \n",
    "                                  num_layers=num_layers, \n",
    "                                  dropout=dropout,\n",
    "                                  batch_first=True)\n",
    "        self.dropout = torch.nn.Dropout(dropout)\n",
    "        self.linear = torch.nn.Linear(in_features=hidden_size, \n",
    "                                      out_features=vocab_size)\n",
    "        self.relu = torch.nn.ReLU()\n",
    "        \n",
    "    def forward(self, x, mem, encoder_outputs):\n",
    "        emb = self.embeddings(x)\n",
    "        emb = self.dropout(emb)\n",
    "        weights = self.attention(emb, mem)\n",
    "        x = torch.bmm(weights, encoder_outputs)\n",
    "        x = torch.cat((emb, x), dim=-1)\n",
    "        x = self.combine_layer(x)\n",
    "        x = self.relu(x)\n",
    "        x, mem = self.lstm(x, mem)\n",
    "        x = self.linear(x)\n",
    "        return x, mem, weights"
   ]
  },
  {
   "cell_type": "code",
   "execution_count": 16,
   "metadata": {},
   "outputs": [],
   "source": [
    "class Seq2SeqModel(torch.nn.Module):\n",
    "    \n",
    "    def __init__(self, encoder, decoder, teacher_forcing=.5):\n",
    "        super(Seq2SeqModel, self).__init__()\n",
    "        \n",
    "        self.encoder = encoder\n",
    "        self.decoder = decoder\n",
    "        self.teacher_forcing = teacher_forcing\n",
    "        \n",
    "    def forward(self, x, y):\n",
    "        encoder_outputs, encoder_hidden = self.encoder(x)\n",
    "        \n",
    "        decoder_hidden = encoder_hidden\n",
    "        decoder_input = y[:, 0].unsqueeze(1)\n",
    "        \n",
    "        decoder_outputs = [torch.zeros((x.size(0), 1, decoder.vocab_size)).long().to(device)]\n",
    "        for i in range(1, y.size(1)):\n",
    "            decoder_output, decoder_hidden, decoder_attention = self.decoder(decoder_input, decoder_hidden, encoder_outputs)\n",
    "            teacher_force = random.random() < self.teacher_forcing\n",
    "            decoder_input = y[:, i].unsqueeze(1) if teacher_force else decoder_output.argmax(-1)\n",
    "            decoder_outputs.append(decoder_output)\n",
    "        decoder_outputs = torch.cat(decoder_outputs, dim=1)\n",
    "        return decoder_outputs"
   ]
  },
  {
   "cell_type": "markdown",
   "metadata": {},
   "source": [
    "### Инициализация модели и начало обучения"
   ]
  },
  {
   "cell_type": "code",
   "execution_count": 17,
   "metadata": {},
   "outputs": [
    {
     "name": "stderr",
     "output_type": "stream",
     "text": [
      "F:\\Dev\\anaconda\\lib\\site-packages\\torch\\nn\\modules\\rnn.py:67: UserWarning: dropout option adds dropout after all but last recurrent layer, so non-zero dropout expects num_layers greater than 1, but got dropout=0.5 and num_layers=1\n",
      "  warnings.warn(\"dropout option adds dropout after all but last \"\n"
     ]
    }
   ],
   "source": [
    "device = 'cuda' if torch.cuda.is_available() else 'cpu'\n",
    "\n",
    "VOCAB_SIZE = tokenizer.vocab_size()\n",
    "MAX_LEN = max_len\n",
    "EMBEDDING_DIM_ENCODER = 256\n",
    "EMBEDDING_DIM_DECODER = 128\n",
    "HIDDEN_SIZE = 128\n",
    "NUM_LAYERS = 1\n",
    "DROPOUT_ENCODER = .5\n",
    "DROPOUT_DECODER = .5\n",
    "\n",
    "attention = Attention(HIDDEN_SIZE, MAX_LEN)\n",
    "encoder = Encoder(VOCAB_SIZE, EMBEDDING_DIM_ENCODER, HIDDEN_SIZE, \n",
    "                  NUM_LAYERS, DROPOUT_ENCODER, pad_index).to(device)\n",
    "decoder = Decoder(VOCAB_SIZE, EMBEDDING_DIM_DECODER, HIDDEN_SIZE, \n",
    "                  NUM_LAYERS, DROPOUT_DECODER, pad_index, attention).to(device)\n",
    "model = Seq2SeqModel(encoder, decoder)\n",
    "\n",
    "criterion = torch.nn.CrossEntropyLoss(ignore_index=pad_index)\n",
    "\n",
    "optimizer = torch.optim.Adam(params=model.parameters())"
   ]
  },
  {
   "cell_type": "code",
   "execution_count": 18,
   "metadata": {},
   "outputs": [],
   "source": [
    "def train(model, loader, criterion, optimizer, last_n_losses=500, verbose=True):\n",
    "    \n",
    "    losses = []\n",
    "\n",
    "    progress_bar = tqdm(total=len(loader), disable=not verbose, desc='Train')\n",
    "\n",
    "    model.train()\n",
    "\n",
    "    for x, y in loader:\n",
    "        x = x.to(device)\n",
    "        y = y.to(device)\n",
    "        \n",
    "        model.train()\n",
    "\n",
    "        optimizer.zero_grad()\n",
    "\n",
    "        pred = model(x, y)\n",
    "\n",
    "        question = pred[:, 1:]\n",
    "        answer = y[:, 1:]\n",
    "\n",
    "        loss = criterion(question.reshape(-1, question.size(-1)), answer.reshape(-1))\n",
    "\n",
    "        loss.backward()\n",
    "        optimizer.step()\n",
    "\n",
    "        losses.append(loss.item())\n",
    "\n",
    "        progress_bar.set_postfix(loss=np.mean(losses[-last_n_losses:]),\n",
    "                                 perplexity=np.exp(np.mean(losses[-last_n_losses:])))\n",
    "\n",
    "        progress_bar.update()\n",
    "\n",
    "    progress_bar.close()\n",
    "    \n",
    "    return losses"
   ]
  },
  {
   "cell_type": "code",
   "execution_count": 19,
   "metadata": {},
   "outputs": [],
   "source": [
    "def evaluate(model, loader, criterion, last_n_losses=500, verbose=True):\n",
    "    \n",
    "    losses = []\n",
    "\n",
    "    progress_bar = tqdm(total=len(loader), disable=not verbose, desc='Evaluate')\n",
    "\n",
    "    model.eval()\n",
    "\n",
    "    for x, y in loader:\n",
    "        x = x.to(device)\n",
    "        y = y.to(device)\n",
    "\n",
    "        with torch.no_grad():\n",
    "            pred = model(x, y)\n",
    "\n",
    "            question = pred[:, 1:]\n",
    "            answer = y[:, 1:]\n",
    "\n",
    "            loss = criterion(question.reshape(-1, question.size(-1)), answer.reshape(-1))\n",
    "\n",
    "        losses.append(loss.item())\n",
    "\n",
    "        progress_bar.set_postfix(loss=np.mean(losses[-last_n_losses:]),\n",
    "                                 perplexity=np.exp(np.mean(losses[-last_n_losses:])))\n",
    "\n",
    "        progress_bar.update()\n",
    "\n",
    "    progress_bar.close()\n",
    "    \n",
    "    return losses"
   ]
  },
  {
   "cell_type": "code",
   "execution_count": 27,
   "metadata": {},
   "outputs": [
    {
     "name": "stderr",
     "output_type": "stream",
     "text": [
      "Train: 100%|████████████████████████████████████████████| 2191/2191 [49:10<00:00,  1.35s/it, loss=6.37, perplexity=586]\n",
      "Evaluate: 100%|███████████████████████████████████████████| 244/244 [00:56<00:00,  4.33it/s, loss=6.42, perplexity=617]\n"
     ]
    },
    {
     "name": "stdout",
     "output_type": "stream",
     "text": [
      "Epoch: 1\n",
      "Train: loss - 6.4030 | perplexity - 603.655\n",
      "Validation: loss - 6.4248 | perplexity - 616.968\n"
     ]
    },
    {
     "name": "stderr",
     "output_type": "stream",
     "text": [
      "Train: 100%|████████████████████████████████████████████| 2191/2191 [46:11<00:00,  1.27s/it, loss=6.34, perplexity=566]\n",
      "Evaluate: 100%|███████████████████████████████████████████| 244/244 [01:13<00:00,  3.33it/s, loss=6.42, perplexity=612]\n"
     ]
    },
    {
     "name": "stdout",
     "output_type": "stream",
     "text": [
      "Epoch: 2\n",
      "Train: loss - 6.3635 | perplexity - 580.259\n",
      "Validation: loss - 6.4162 | perplexity - 611.685\n"
     ]
    },
    {
     "name": "stderr",
     "output_type": "stream",
     "text": [
      "Train: 100%|████████████████████████████████████████████| 2191/2191 [47:58<00:00,  1.31s/it, loss=6.29, perplexity=542]\n",
      "Evaluate: 100%|███████████████████████████████████████████| 244/244 [00:57<00:00,  4.21it/s, loss=6.37, perplexity=583]\n"
     ]
    },
    {
     "name": "stdout",
     "output_type": "stream",
     "text": [
      "Epoch: 3\n",
      "Train: loss - 6.3297 | perplexity - 560.994\n",
      "Validation: loss - 6.3674 | perplexity - 582.564\n"
     ]
    },
    {
     "name": "stderr",
     "output_type": "stream",
     "text": [
      "Train: 100%|████████████████████████████████████████████| 2191/2191 [46:44<00:00,  1.28s/it, loss=6.27, perplexity=526]\n",
      "Evaluate: 100%|███████████████████████████████████████████| 244/244 [01:12<00:00,  3.37it/s, loss=6.37, perplexity=585]"
     ]
    },
    {
     "name": "stdout",
     "output_type": "stream",
     "text": [
      "Epoch: 4\n",
      "Train: loss - 6.2930 | perplexity - 540.795\n",
      "Validation: loss - 6.3725 | perplexity - 585.497\n"
     ]
    },
    {
     "name": "stderr",
     "output_type": "stream",
     "text": [
      "\n"
     ]
    }
   ],
   "source": [
    "epochs = 5\n",
    "\n",
    "train_losses = []\n",
    "validation_losses = []\n",
    "\n",
    "train_perplexities = []\n",
    "validation_perplexities = []\n",
    "\n",
    "best_validation_loss = 1e+6\n",
    "\n",
    "for n_epoch in range(1, epochs + 1):\n",
    "    \n",
    "    epoch_train_losses = train(model, train_loader, criterion, optimizer)\n",
    "    epoch_validation_losses = evaluate(model, validation_loader, criterion)\n",
    "    \n",
    "    mean_train_loss = np.mean(epoch_train_losses)\n",
    "    mean_validation_loss = np.mean(epoch_validation_losses)\n",
    "    \n",
    "    train_losses.append(epoch_train_losses)\n",
    "    train_perplexities.append(np.exp(mean_train_loss))\n",
    "    \n",
    "    validation_losses.append(epoch_validation_losses)\n",
    "    validation_perplexities.append(np.exp(mean_validation_loss))\n",
    "    \n",
    "    message = f'Epoch: {n_epoch}\\n'\n",
    "    message += f'Train: loss - {mean_train_loss:.4f} | perplexity - {train_perplexities[-1]:.3f}\\n'\n",
    "    message += f'Validation: loss - {mean_validation_loss:.4f} | perplexity - {validation_perplexities[-1]:.3f}'\n",
    "    \n",
    "    print(message)\n",
    "    \n",
    "    if mean_validation_loss < best_validation_loss:\n",
    "        \n",
    "        best_validation_loss = mean_validation_loss\n",
    "        \n",
    "        torch.save(model.state_dict(), f'best_language_model_state_dict.pth')\n",
    "        torch.save(optimizer.state_dict(), 'best_optimizer_state_dict.pth')\n",
    "        \n",
    "    else:\n",
    "        break\n",
    "        \n",
    "    torch.save(model.state_dict(), f'last_language_model_state_dict.pth')\n",
    "    torch.save(optimizer.state_dict(), 'last_optimizer_state_dict.pth')\n",
    "\n",
    "    with open(f'info_{n_epoch}.json', 'w') as file_object:\n",
    "\n",
    "        info = {\n",
    "            'message': message,\n",
    "            'train_losses': train_losses,\n",
    "            'validation_losses': validation_losses,\n",
    "            'train_perplexities': train_perplexities,\n",
    "            'validation_perplexities': validation_perplexities\n",
    "        }\n",
    "\n",
    "        file_object.write(json.dumps(info, indent=2))"
   ]
  },
  {
   "cell_type": "markdown",
   "metadata": {},
   "source": [
    "### Реализация алгоритмов декодирования"
   ]
  },
  {
   "cell_type": "code",
   "execution_count": 30,
   "metadata": {},
   "outputs": [],
   "source": [
    "MAX_SENT_LEN = 256"
   ]
  },
  {
   "cell_type": "code",
   "execution_count": 38,
   "metadata": {},
   "outputs": [],
   "source": [
    "def BeamSearch(question):\n",
    "    class BeamSearchNode():\n",
    "        def __init__(self, prev_node, prob, input_token, hidden):\n",
    "            self.prev_node = prev_node\n",
    "            self.prob = prob\n",
    "            self.input_token = input_token\n",
    "            self.hidden = hidden\n",
    "            self.depth = prev_node.depth + 1 if prev_node else 0\n",
    "            self.prod_probs = prev_node.prod_probs + prob if prev_node else 0\n",
    "\n",
    "        def __repr__(self):\n",
    "            prob_str = 'prob: ' + str(np.round(self.prob, 2))\n",
    "            input_token_str = 'token: ' + str(self.input_token)\n",
    "            depth_str = 'depth: ' + str(self.depth)\n",
    "            prod_probs_str = 'product probs: ' + str(np.exp(self.prod_probs))\n",
    "            return '\\n'.join([prob_str, input_token_str, depth_str, prod_probs_str])\n",
    "\n",
    "        def build_sentence(self, sentence):\n",
    "            sentence.append(self.input_token)\n",
    "            if self.prev_node:\n",
    "                self.prev_node.build_sentence(sentence)\n",
    "        \n",
    "    WIDTH = 3\n",
    "    encoder_outputs, encoder_hidden = model.encoder(question)\n",
    "    if MAX_LEN - encoder_outputs.size(1) < 0:\n",
    "        encoder_outputs = encoder_outputs[:, :MAX_LEN, :]\n",
    "    else:\n",
    "        encoder_outputs = torch.cat(\n",
    "            (encoder_outputs, \n",
    "             torch.zeros((1, MAX_LEN - encoder_outputs.size(1), HIDDEN_SIZE)).to(device)\n",
    "            ), dim=1)\n",
    "\n",
    "    decoder_hidden = encoder_hidden\n",
    "\n",
    "    nodes = [BeamSearchNode(None, 0, 2, decoder_hidden)]\n",
    "    for _ in range(MAX_SENT_LEN):\n",
    "        cur_nodes = []\n",
    "        cur_vals = []\n",
    "\n",
    "        for node in nodes:\n",
    "            input_token = torch.tensor([[node.input_token]]).long().to(device)\n",
    "            decoder_output, decoder_hidden, attention_weights = model.decoder(input_token, node.hidden, encoder_outputs)\n",
    "            top_decoder_vals, top_decoder_idxs = F.log_softmax(decoder_output, -1).topk(WIDTH, -1)\n",
    "            top_decoder_vals, top_decoder_idxs = top_decoder_vals.detach().cpu(), top_decoder_idxs.detach().cpu()\n",
    "            for idx in range(top_decoder_idxs.size(-1)):\n",
    "                decoder_idx_val = top_decoder_vals[:, :, idx].item()\n",
    "                decoder_idx_token = top_decoder_idxs[:, :, idx].item()\n",
    "                new_node = BeamSearchNode(node, decoder_idx_val, decoder_idx_token, decoder_hidden)\n",
    "                cur_nodes.append(new_node)\n",
    "                cur_vals.append(decoder_idx_val)\n",
    "        top_nodes = np.argpartition(cur_vals, -WIDTH)[-WIDTH:]\n",
    "        nodes = np.array(cur_nodes)[top_nodes]\n",
    "        eos_nodes = [i for i, node in enumerate(nodes) if node.input_token == 3]\n",
    "        if len(eos_nodes) == WIDTH:\n",
    "            break\n",
    "        nodes = np.delete(nodes, eos_nodes)\n",
    "\n",
    "    probs_per_node = [node.prod_probs for node in nodes]\n",
    "    most_prob_node = nodes[np.argmax(probs_per_node)]\n",
    "    sentence = []\n",
    "    most_prob_node.build_sentence(sentence)\n",
    "    return sentence[::-1]"
   ]
  },
  {
   "cell_type": "code",
   "execution_count": 39,
   "metadata": {},
   "outputs": [],
   "source": [
    "def GreedyDecoding(question):\n",
    "    with torch.no_grad():\n",
    "        encoder_outputs, encoder_hidden = model.encoder(question)\n",
    "        if MAX_LEN - encoder_outputs.size(1) < 0:\n",
    "            encoder_outputs = encoder_outputs[:, :MAX_LEN, :]\n",
    "        else:\n",
    "            encoder_outputs = torch.cat(\n",
    "                (encoder_outputs, \n",
    "                 torch.zeros((1, MAX_LEN - encoder_outputs.size(1), HIDDEN_SIZE)).to(device)\n",
    "                ), dim=1)\n",
    "\n",
    "        decoder_hidden = encoder_hidden\n",
    "\n",
    "        decoder_input = torch.tensor([[2]]).long().to(device)\n",
    "\n",
    "        decoder_output, decoder_hidden, decoder_attention = model.decoder(decoder_input, decoder_hidden, encoder_outputs)\n",
    "\n",
    "        answer = []\n",
    "        for _ in range(0, MAX_SENT_LEN):\n",
    "            decoder_output, decoder_hidden, decoder_attention = model.decoder(decoder_input, decoder_hidden, encoder_outputs)\n",
    "            decoder_input = decoder_output.argmax(-1)\n",
    "            if decoder_input.item() == 3:\n",
    "                break\n",
    "            answer.append(decoder_input.item())\n",
    "    return answer"
   ]
  },
  {
   "cell_type": "markdown",
   "metadata": {},
   "source": [
    "### Генерация ответов и запись результатов в файлы"
   ]
  },
  {
   "cell_type": "code",
   "execution_count": 40,
   "metadata": {},
   "outputs": [],
   "source": [
    "def generate_answer(seed_text, decoding_method, model):\n",
    "    model.eval()\n",
    "\n",
    "    question = torch.tensor(tokenizer.encode([seed_text])).long().to(device)\n",
    "    answer = decoding_method(question)\n",
    "    \n",
    "    return tokenizer.decode(answer, ignore_ids=[0, 2, 3])[0]"
   ]
  },
  {
   "cell_type": "code",
   "execution_count": 47,
   "metadata": {},
   "outputs": [
    {
     "name": "stderr",
     "output_type": "stream",
     "text": [
      "100%|██████████████████████████████████████████████████████████████████████████████| 244/244 [1:52:31<00:00, 27.67s/it]\n"
     ]
    }
   ],
   "source": [
    "questions = []\n",
    "answers = []\n",
    "valid_answers = []\n",
    "for x, y in tqdm(validation_loader):\n",
    "    for i_question in range(len(x)):\n",
    "        question = tokenizer.decode(x[i_question].detach().cpu().numpy().tolist(), ignore_ids=[0, 2, 3])[0]\n",
    "        answer = generate_answer(question, BeamSearch, model)\n",
    "        valid_answer = tokenizer.decode(y[i_question].detach().cpu().numpy().tolist(), ignore_ids=[0, 2, 3])[0]\n",
    "        questions.append(question)\n",
    "        answers.append(answer)\n",
    "        valid_answers.append(valid_answer)"
   ]
  },
  {
   "cell_type": "code",
   "execution_count": 48,
   "metadata": {},
   "outputs": [],
   "source": [
    "pd.DataFrame({'question': questions, 'answer': answers, 'valid_answer': valid_answers}).to_csv('beam_search_valid_results.csv', index=False)"
   ]
  },
  {
   "cell_type": "code",
   "execution_count": 49,
   "metadata": {},
   "outputs": [
    {
     "name": "stderr",
     "output_type": "stream",
     "text": [
      "100%|████████████████████████████████████████████████████████████████████████████████| 244/244 [14:03<00:00,  3.46s/it]\n"
     ]
    }
   ],
   "source": [
    "questions = []\n",
    "answers = []\n",
    "valid_answers = []\n",
    "for x, y in tqdm(validation_loader):\n",
    "    for i_question in range(len(x)):\n",
    "        question = tokenizer.decode(x[i_question].detach().cpu().numpy().tolist(), ignore_ids=[0, 2, 3])[0]\n",
    "        answer = generate_answer(question, GreedyDecoding, model)\n",
    "        valid_answer = tokenizer.decode(y[i_question].detach().cpu().numpy().tolist(), ignore_ids=[0, 2, 3])[0]\n",
    "        questions.append(question)\n",
    "        answers.append(answer)\n",
    "        valid_answers.append(valid_answer)"
   ]
  },
  {
   "cell_type": "code",
   "execution_count": 50,
   "metadata": {},
   "outputs": [],
   "source": [
    "pd.DataFrame({'question': questions, 'answer': answers, 'valid_answer': valid_answers}).to_csv('greedy_decoding_valid_results.csv', index=False)"
   ]
  },
  {
   "cell_type": "markdown",
   "metadata": {},
   "source": [
    "### Выводы"
   ]
  },
  {
   "cell_type": "markdown",
   "metadata": {},
   "source": [
    "Языковая модель отвечает на вопросы очень плохо. В плане датасета здесь есть как миниму две причины:\n",
    "1. В самом датасете очень много текста в вопросах и ответах. В качестве варианта решения проблемы можно попробовать фильтровать такие тексты.\n",
    "2. Эта проблема тесно связана с первой. В текстах очень много мусора. В частности, есть немало примеров, в которых есть информация, не относящаяся к самому вопросу. Например, такому-то пользователю начислено столько-то баллов. Такие случаи довольно легко почистить, поскольку, как правило, они подчиняются определённому паттерну.\n",
    "\n",
    "Также возможно модели не хватает больше примеров. Из-за ограничений в ресурсах, была взята малая часть всего датасета. Соответственно, модель видит не все примеры, а потому не может ответить разнообразно.\n",
    "\n",
    "Есть проблема в декодировании предсказанного ответа. В каждом ответе модель генерирует повторяющиеся токены. Такую ситуацию можно исправить тем, что просто добавить дополнительное условие на прекращение генерации. Например, если определённый список токенов встретился ещё раз при генерации, то останавливаем процесс."
   ]
  }
 ],
 "metadata": {
  "kernelspec": {
   "display_name": "Python 3 (ipykernel)",
   "language": "python",
   "name": "python3"
  },
  "language_info": {
   "codemirror_mode": {
    "name": "ipython",
    "version": 3
   },
   "file_extension": ".py",
   "mimetype": "text/x-python",
   "name": "python",
   "nbconvert_exporter": "python",
   "pygments_lexer": "ipython3",
   "version": "3.9.13"
  }
 },
 "nbformat": 4,
 "nbformat_minor": 4
}
